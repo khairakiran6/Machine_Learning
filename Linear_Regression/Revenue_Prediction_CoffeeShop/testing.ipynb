{
 "cells": [
  {
   "cell_type": "markdown",
   "id": "389b9826-95bc-4e8b-92bd-9b73cbdfe2f6",
   "metadata": {},
   "source": [
    "## Pipeline modules in Production and Testing"
   ]
  },
  {
   "cell_type": "markdown",
   "id": "c4dcda2c-4057-4eda-bf48-ce853dd46a54",
   "metadata": {
    "editable": true,
    "slideshow": {
     "slide_type": ""
    },
    "tags": []
   },
   "source": [
    "### \n",
    "model_building= Data_ingestion->data_preprocessing->model_building(training models)->testing_model->Export the model using(joblib/pickle/lib for pytorch)\n",
    "\n",
    "you will take exported model and Convert that to docker image along with all packg/extra thing. \n",
    "\n",
    "once u have docker image , Then u will basically register that model if you are using cloud based interfaces. for example in GCP you will register model with GCR.\n",
    "\n",
    "after register model then u will deploy model on any end point(RestAPI / front end apps)\n",
    "\n",
    "after deployment you will put some monitoring on that model(for example using evidently)\n",
    "\n",
    "Production system pipeline : Data_ingestion -> Data_Preprocessing -> Call deployed model for Prediction -> Question_answer(Feedback)\n",
    "\n",
    "MLops  - ML models\n",
    "\n",
    "LLMops  - LLM model(chatgpt) \n",
    "\n"
   ]
  },
  {
   "cell_type": "code",
   "execution_count": null,
   "id": "1254d21a",
   "metadata": {},
   "outputs": [],
   "source": [
    "## how to clone a branch\n",
    "\n",
    "git clone <Https/SSH path>\n",
    "\n",
    "## Create new branch  from GUI of GithUB \n",
    "## Now run below command to get sync from Github to local\n",
    "\n",
    "git pull --rebase\n",
    "\n",
    "## Checkout to new branch\n",
    "git checkout <new_branch>\n",
    "\n",
    "## Adding new files to branch\n",
    "git add * (if you have added 10 new files then it will add 10)\n",
    "git add testing.ipynb\n",
    "\n",
    "git commit -m \"testing of new branch\"\n",
    "\n",
    "git push\n",
    "\n"
   ]
  }
 ],
 "metadata": {
  "kernelspec": {
   "display_name": "Python 3 (ipykernel)",
   "language": "python",
   "name": "python3"
  },
  "language_info": {
   "codemirror_mode": {
    "name": "ipython",
    "version": 3
   },
   "file_extension": ".py",
   "mimetype": "text/x-python",
   "name": "python",
   "nbconvert_exporter": "python",
   "pygments_lexer": "ipython3",
   "version": "3.12.7"
  }
 },
 "nbformat": 4,
 "nbformat_minor": 5
}
